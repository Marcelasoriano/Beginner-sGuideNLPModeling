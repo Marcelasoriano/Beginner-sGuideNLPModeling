{
  "nbformat": 4,
  "nbformat_minor": 0,
  "metadata": {
    "colab": {
      "provenance": [],
      "include_colab_link": true
    },
    "kernelspec": {
      "name": "python3",
      "display_name": "Python 3"
    },
    "language_info": {
      "name": "python"
    }
  },
  "cells": [
    {
      "cell_type": "markdown",
      "metadata": {
        "id": "view-in-github",
        "colab_type": "text"
      },
      "source": [
        "<a href=\"https://colab.research.google.com/github/Marcelasoriano/Beginner-sGuideNLPModeling/blob/main/NLP_MODELING_Validation%2C_Confusion_Matrix%2C_Data_Analysis_and_Collection.ipynb\" target=\"_parent\"><img src=\"https://colab.research.google.com/assets/colab-badge.svg\" alt=\"Open In Colab\"/></a>"
      ]
    },
    {
      "cell_type": "markdown",
      "source": [
        "# **Begginers Modeling to NLP**\n",
        "- In this notebook, we will be exploring how Natural Language Processing (NLP) can be used to build sentiment analysis models.\n",
        "- Our primary focus will be on social media data though we aim to create a model that is capable of handling larger sentiment analysis.\n",
        "- By the end, we aim to provide a comprehensive set of tools and visualizations to interpret sentiment data.\n",
        "\n",
        "## **Table of Contents**\n",
        "1. [Data Collection and Preprocessing](#data-collection)\n",
        "2. [Exploratory Data Analysis (EDA)](#eda)\n",
        "3. [Model Building and Training](#model-building)\n",
        "4. [Model Evaluation](#model-evaluation)\n",
        "5. [Topic Based Model](different-topics)\n",
        "6. [More Examples](#more-examples)\n",
        "\n",
        "- SYYFT is the sole owner of this notebook and everything edited shall be owned by SYYFT, including chanegs made by anyone in the organization and additions to the Notebook.\n",
        "\n",
        "* Created by Marcela Soriano."
      ],
      "metadata": {
        "id": "_tNXX3W501iv"
      }
    },
    {
      "cell_type": "markdown",
      "source": [
        "<a id='data-collection'></a>\n",
        "## 1. Data Collection and Preprocessing"
      ],
      "metadata": {
        "id": "0vHHVcFcBl3c"
      }
    },
    {
      "cell_type": "markdown",
      "source": [
        "### Data Collection\n",
        "For this example, we will use a sample dataset. In a real-world scenario, you might fetch data from online sources or APIs."
      ],
      "metadata": {
        "id": "-ke7K4fyz0nz"
      }
    },
    {
      "cell_type": "markdown",
      "source": [
        "The code below creates a large dataset to simulate a real world sentiment dataset. The components are the following:\n",
        "\n",
        "* Timestamp: Sequential dates and times to represent when the comment was made.\n",
        "* processed_text: Represents text that has been preprocessed (e.g., lowercase, stripped of URLs, special characters, etc.)\n",
        "* sentiment: A basic sentiment classification of the text (positive, negative, neutral)."
      ],
      "metadata": {
        "id": "IIA6rJFlF_7O"
      }
    },
    {
      "cell_type": "code",
      "source": [
        "import pandas as pd\n",
        "import random\n",
        "from datetime import datetime, timedelta\n",
        "\n",
        "# Sample data generator\n",
        "def generate_sample_data(n=1000):\n",
        "    sentiments = ['positive', 'negative', 'neutral']\n",
        "    base_date = datetime(2023, 1, 1)\n",
        "    data = []\n",
        "\n",
        "    for _ in range(n):\n",
        "        days_offset = random.randint(0, 30)  # for the past month\n",
        "        hours_offset = random.randint(0, 23)\n",
        "        minutes_offset = random.randint(0, 59)\n",
        "\n",
        "        timestamp = base_date + timedelta(days=days_offset, hours=hours_offset, minutes=minutes_offset)\n",
        "        sentiment = random.choice(sentiments)\n",
        "\n",
        "        if sentiment == 'positive':\n",
        "            text = random.choice(['love', 'best', 'awesome', 'amazing', 'fantastic']) + \" \" + \\\n",
        "                   random.choice(['product', 'service', 'support', 'experience'])\n",
        "        elif sentiment == 'negative':\n",
        "            text = random.choice(['hate', 'worst', 'awful', 'terrible', 'horrible']) + \" \" + \\\n",
        "                   random.choice(['product', 'service', 'support', 'experience'])\n",
        "        else:\n",
        "            text = random.choice(['okay', 'decent', 'average', 'fair', 'moderate']) + \" \" + \\\n",
        "                   random.choice(['product', 'service', 'support', 'experience'])\n",
        "\n",
        "        data.append([timestamp, text, sentiment])\n",
        "\n",
        "    return pd.DataFrame(data, columns=['timestamp', 'processed_text', 'sentiment'])\n",
        "\n",
        "# Generate and save sample data\n",
        "df = generate_sample_data()\n",
        "df.to_csv('sample_sentiment_data.csv', index=False)"
      ],
      "metadata": {
        "id": "NMTySHgfF6hH"
      },
      "execution_count": null,
      "outputs": []
    },
    {
      "cell_type": "markdown",
      "source": [
        "After the dataset has been created, it has to be loaded using pandas as demonstrated below:"
      ],
      "metadata": {
        "id": "YH41IvoxGhuN"
      }
    },
    {
      "cell_type": "code",
      "source": [
        "import pandas as pd\n",
        "\n",
        "# Example of loading a dataset\n",
        "data = pd.read_csv('sample_sentiment_data.csv')"
      ],
      "metadata": {
        "id": "yngz3U0D0FaQ"
      },
      "execution_count": null,
      "outputs": []
    },
    {
      "cell_type": "markdown",
      "source": [
        "### Data Preprocessing"
      ],
      "metadata": {
        "id": "acF4n6t_0RtS"
      }
    },
    {
      "cell_type": "markdown",
      "source": [
        "Before modeling, it is crucial to preprocess the text data."
      ],
      "metadata": {
        "id": "ECm1ckxm0aSF"
      }
    },
    {
      "cell_type": "code",
      "source": [
        "import nltk\n",
        "\n",
        "# Downloading the punkt tokenizer\n",
        "nltk.download('punkt')\n",
        "\n",
        "# Downloading the wordnet lemmatizer dataset\n",
        "nltk.download('wordnet')\n",
        "\n",
        "# Downloading the stopwords dataset\n",
        "nltk.download('stopwords')"
      ],
      "metadata": {
        "colab": {
          "base_uri": "https://localhost:8080/"
        },
        "id": "vKFcg6fD8EL1",
        "outputId": "7a9ea0e7-d68e-46b7-af55-3b96c0147f24"
      },
      "execution_count": null,
      "outputs": [
        {
          "output_type": "stream",
          "name": "stderr",
          "text": [
            "[nltk_data] Downloading package punkt to /root/nltk_data...\n",
            "[nltk_data]   Package punkt is already up-to-date!\n",
            "[nltk_data] Downloading package wordnet to /root/nltk_data...\n",
            "[nltk_data]   Package wordnet is already up-to-date!\n",
            "[nltk_data] Downloading package stopwords to /root/nltk_data...\n",
            "[nltk_data]   Package stopwords is already up-to-date!\n"
          ]
        },
        {
          "output_type": "execute_result",
          "data": {
            "text/plain": [
              "True"
            ]
          },
          "metadata": {},
          "execution_count": 50
        }
      ]
    },
    {
      "cell_type": "code",
      "source": [
        "import nltk\n",
        "from nltk.corpus import stopwords\n",
        "from nltk.stem import WordNetLemmatizer\n",
        "\n",
        "# Download necessary NLTK resources if you haven't\n",
        "# nltk.download('punkt')\n",
        "# nltk.download('wordnet')\n",
        "# nltk.download('stopwords')\n",
        "\n",
        "# Tokenization, stopword removal, and lemmatization\n",
        "lemmatizer = WordNetLemmatizer()\n",
        "stop_words = set(stopwords.words('english'))\n",
        "\n",
        "def preprocess_text(text):\n",
        "    tokens = nltk.word_tokenize(text)\n",
        "    tokens = [lemmatizer.lemmatize(token) for token in tokens if token.lower() not in stop_words]\n",
        "    return ' '.join(tokens)\n",
        "\n",
        "# Apply the preprocessing to the 'processed_text' column\n",
        "data['processed_text'] = data['processed_text'].apply(preprocess_text)\n"
      ],
      "metadata": {
        "id": "8kG4h2Fr0mRQ"
      },
      "execution_count": null,
      "outputs": []
    },
    {
      "cell_type": "markdown",
      "source": [
        "<a id='eda'></a>\n",
        "## 2. Exploratory Data Analysis (EDA)"
      ],
      "metadata": {
        "id": "PH9twGv20zFN"
      }
    },
    {
      "cell_type": "markdown",
      "source": [
        "### Basic Statistics"
      ],
      "metadata": {
        "id": "aSzqUyhK05by"
      }
    },
    {
      "cell_type": "markdown",
      "source": [
        "Let's get some basic insights from the dataset."
      ],
      "metadata": {
        "id": "IarfSEHo0_2s"
      }
    },
    {
      "cell_type": "code",
      "source": [
        "data.describe"
      ],
      "metadata": {
        "colab": {
          "base_uri": "https://localhost:8080/"
        },
        "id": "Ukg5Qko71DET",
        "outputId": "4347b3b1-4003-4021-e5d7-8d79f39b4156"
      },
      "execution_count": null,
      "outputs": [
        {
          "output_type": "execute_result",
          "data": {
            "text/plain": [
              "<bound method NDFrame.describe of                timestamp        processed_text sentiment\n",
              "0    2023-01-07 03:59:00  fantastic experience  positive\n",
              "1    2023-01-05 17:29:00     fantastic product  positive\n",
              "2    2023-01-12 21:29:00          okay product   neutral\n",
              "3    2023-01-26 04:13:00        decent support   neutral\n",
              "4    2023-01-15 10:28:00       amazing product  positive\n",
              "..                   ...                   ...       ...\n",
              "995  2023-01-28 06:07:00         worst service  negative\n",
              "996  2023-01-11 16:41:00          fair product   neutral\n",
              "997  2023-01-07 19:10:00        decent product   neutral\n",
              "998  2023-01-07 11:44:00     fantastic support  positive\n",
              "999  2023-01-01 11:42:00    average experience   neutral\n",
              "\n",
              "[1000 rows x 3 columns]>"
            ]
          },
          "metadata": {},
          "execution_count": 58
        }
      ]
    },
    {
      "cell_type": "markdown",
      "source": [
        "### Data Visualization"
      ],
      "metadata": {
        "id": "JycUz7J71Gct"
      }
    },
    {
      "cell_type": "markdown",
      "source": [
        "Visualizing the distribution of sentiments."
      ],
      "metadata": {
        "id": "weDCT48q1JrG"
      }
    },
    {
      "cell_type": "code",
      "source": [
        "import matplotlib.pyplot as plt\n",
        "\n",
        "data['sentiment'].value_counts().plot(kind='bar')\n",
        "plt.show()"
      ],
      "metadata": {
        "colab": {
          "base_uri": "https://localhost:8080/",
          "height": 477
        },
        "id": "xXA9-5tL1MrR",
        "outputId": "5e4dbf8e-1d1e-4317-9265-af9fb6b55294"
      },
      "execution_count": null,
      "outputs": [
        {
          "output_type": "display_data",
          "data": {
            "text/plain": [
              "<Figure size 640x480 with 1 Axes>"
            ],
            "image/png": "[encoded data removed]"
          },
          "metadata": {}
        }
      ]
    },
    {
      "cell_type": "markdown",
      "source": [
        "<a id='model-building'></a>\n",
        "## 3. Model Building and Training"
      ],
      "metadata": {
        "id": "uInn6rgp1ct4"
      }
    },
    {
      "cell_type": "markdown",
      "source": [
        "### Model Selection"
      ],
      "metadata": {
        "id": "6NX0RMiy1jDU"
      }
    },
    {
      "cell_type": "markdown",
      "source": [
        "In this section, we will pre-process our text data, split it into training and testing datasets, and then choose a model for training.\n",
        "\n",
        "Text Preprocessing:\n",
        "* Natural Language Processing (NLP) often requires text data to be cleaned and transformed into a numerical format."
      ],
      "metadata": {
        "id": "IfjjlIP31lkE"
      }
    },
    {
      "cell_type": "code",
      "source": [
        "import re\n",
        "import nltk\n",
        "from sklearn.feature_extraction.text import TfidfVectorizer\n",
        "from nltk.corpus import stopwords\n",
        "nltk.download('stopwords')\n",
        "\n",
        "def preprocess_text(text):\n",
        "    # Lowercasing\n",
        "    text = text.lower()\n",
        "    # Removing numbers, symbols and special characters\n",
        "    text = re.sub(r'[^a-z\\s]', '', text)\n",
        "    # Removing stopwords\n",
        "    text = ' '.join(word for word in text.split() if word not in stopwords.words('english'))\n",
        "    return text\n",
        "\n",
        "# Applying preprocessing on our data\n",
        "data['processed_text'] = data['processed_text'].apply(preprocess_text)\n",
        "\n",
        "# Vectorization using TF-IDF\n",
        "vectorizer = TfidfVectorizer(max_features=5000)\n",
        "X = vectorizer.fit_transform(data['processed_text'])\n",
        "y = data['sentiment']  # Assuming the column name for sentiment labels is 'sentiment'"
      ],
      "metadata": {
        "colab": {
          "base_uri": "https://localhost:8080/"
        },
        "id": "oVpvCYtN19k6",
        "outputId": "c347382a-e457-42df-fbe6-d5c6c06dd572"
      },
      "execution_count": null,
      "outputs": [
        {
          "output_type": "stream",
          "name": "stderr",
          "text": [
            "[nltk_data] Downloading package stopwords to /root/nltk_data...\n",
            "[nltk_data]   Package stopwords is already up-to-date!\n"
          ]
        }
      ]
    },
    {
      "cell_type": "markdown",
      "source": [
        "Train Test Split:\n",
        "* We will now split our data to train and evaluate our model."
      ],
      "metadata": {
        "id": "1aZYLR2i1_q_"
      }
    },
    {
      "cell_type": "code",
      "source": [
        "from sklearn.model_selection import train_test_split\n",
        "\n",
        "X_train, X_test, y_train, y_test = train_test_split(X, y, test_size=0.2, random_state=42)"
      ],
      "metadata": {
        "id": "tb62MWaN2GMe"
      },
      "execution_count": null,
      "outputs": []
    },
    {
      "cell_type": "markdown",
      "source": [
        "Model Training:\n",
        "* Let's use a simple linear classifier such as Logistic Regression for our sentiment analysis task."
      ],
      "metadata": {
        "id": "Bv96QLVF2Iur"
      }
    },
    {
      "cell_type": "code",
      "source": [
        "from sklearn.linear_model import LogisticRegression\n",
        "\n",
        "clf = LogisticRegression(max_iter=1000)\n",
        "clf.fit(X_train, y_train)\n",
        "\n",
        "# Quick model assessment\n",
        "train_accuracy = clf.score(X_train, y_train)\n",
        "test_accuracy = clf.score(X_test, y_test)\n",
        "\n",
        "print(f\"Training Accuracy: {train_accuracy:.2f}\")\n",
        "print(f\"Test Accuracy: {test_accuracy:.2f}\")"
      ],
      "metadata": {
        "colab": {
          "base_uri": "https://localhost:8080/"
        },
        "id": "Sy3qkS-02T01",
        "outputId": "d5cc836a-e610-4406-cd93-93941404afda"
      },
      "execution_count": null,
      "outputs": [
        {
          "output_type": "stream",
          "name": "stdout",
          "text": [
            "Training Accuracy: 1.00\n",
            "Test Accuracy: 1.00\n"
          ]
        }
      ]
    },
    {
      "cell_type": "markdown",
      "source": [
        "<a id='model-evaluation'></a>\n",
        "## 4. Model Evaluation"
      ],
      "metadata": {
        "id": "WHbD4jtI2WoD"
      }
    },
    {
      "cell_type": "markdown",
      "source": [
        "Classification Report: To understand how well our model performs, we need to evaluate it using various metrics and visualizations."
      ],
      "metadata": {
        "id": "XiKpGun82j0m"
      }
    },
    {
      "cell_type": "code",
      "source": [
        "from sklearn.metrics import classification_report, confusion_matrix\n",
        "\n",
        "# Predictions\n",
        "y_pred = clf.predict(X_test)\n",
        "\n",
        "# Printing a detailed classification report\n",
        "print(classification_report(y_test, y_pred))"
      ],
      "metadata": {
        "colab": {
          "base_uri": "https://localhost:8080/"
        },
        "id": "KEEapYPT2iOi",
        "outputId": "18d79744-da77-4579-d1e6-116fe1d28260"
      },
      "execution_count": null,
      "outputs": [
        {
          "output_type": "stream",
          "name": "stdout",
          "text": [
            "              precision    recall  f1-score   support\n",
            "\n",
            "    negative       1.00      1.00      1.00       110\n",
            "     neutral       1.00      1.00      1.00       126\n",
            "    positive       1.00      1.00      1.00        94\n",
            "\n",
            "    accuracy                           1.00       330\n",
            "   macro avg       1.00      1.00      1.00       330\n",
            "weighted avg       1.00      1.00      1.00       330\n",
            "\n"
          ]
        }
      ]
    },
    {
      "cell_type": "markdown",
      "source": [
        "Model Metrics Visualization: For better visualization, we can plot the confusion matrix."
      ],
      "metadata": {
        "id": "PP6TEOaV2rDw"
      }
    },
    {
      "cell_type": "code",
      "source": [
        "import seaborn as sns\n",
        "import matplotlib.pyplot as plt\n",
        "\n",
        "conf_matrix = confusion_matrix(y_test, y_pred)\n",
        "plt.figure(figsize=(8,6))\n",
        "sns.heatmap(conf_matrix, annot=True, cmap=\"YlGnBu\", fmt='g')\n",
        "plt.xlabel('Predicted Label')\n",
        "plt.ylabel('True Label')\n",
        "plt.title('Confusion Matrix')\n",
        "plt.show()"
      ],
      "metadata": {
        "colab": {
          "base_uri": "https://localhost:8080/",
          "height": 564
        },
        "id": "nFTbSXCO20Pl",
        "outputId": "26a51e80-8a35-4bff-fa32-a00a847d040f"
      },
      "execution_count": null,
      "outputs": [
        {
          "output_type": "display_data",
          "data": {
            "text/plain": [
              "<Figure size 800x600 with 2 Axes>"
            ],
            "image/png": "[encoded data removed]"
          },
          "metadata": {}
        }
      ]
    },
    {
      "cell_type": "markdown",
      "source": [
        "ROC Curve and AUC (For binary classification): If the sentiment analysis is binary (e.g., positive or negative), the Receiver Operating Characteristic (ROC) curve can be useful."
      ],
      "metadata": {
        "id": "PfMcgHn-27gC"
      }
    },
    {
      "cell_type": "code",
      "source": [
        "import matplotlib.pyplot as plt\n",
        "from sklearn.model_selection import train_test_split\n",
        "from sklearn.preprocessing import label_binarize\n",
        "from sklearn.metrics import roc_curve, auc\n",
        "from sklearn.multiclass import OneVsRestClassifier\n",
        "\n",
        "# Assuming X and y are already defined as your data and labels\n",
        "# Splitting the dataset\n",
        "X_train, X_test, y_train, y_test = train_test_split(X, y, test_size=0.33, random_state=42)\n",
        "\n",
        "# Binarize the training and test labels (if they're not already)\n",
        "y_train_bin = label_binarize(y_train, classes=y.unique())\n",
        "y_test_bin = label_binarize(y_test, classes=y.unique())\n",
        "\n",
        "clf_multiclass = OneVsRestClassifier(clf)  # Assuming clf is your classifier\n",
        "y_score = clf_multiclass.fit(X_train, y_train_bin).predict_proba(X_test)\n",
        "\n",
        "# Compute ROC curve and ROC area for each class\n",
        "fpr = dict()\n",
        "tpr = dict()\n",
        "roc_auc = dict()\n",
        "n_classes = y_train_bin.shape[1]\n",
        "for i in range(n_classes):\n",
        "    fpr[i], tpr[i], _ = roc_curve(y_test_bin[:, i], y_score[:, i])\n",
        "    roc_auc[i] = auc(fpr[i], tpr[i])\n",
        "\n",
        "# Plot all ROC curves\n",
        "plt.figure(figsize=(8, 6))\n",
        "colors = ['aqua', 'darkorange', 'cornflowerblue', 'green', 'red', 'purple', 'yellow', 'black', 'pink', 'brown']  # you can add more colors if there are more than 10 classes\n",
        "for i, color in zip(range(n_classes), colors):\n",
        "    plt.plot(fpr[i], tpr[i], color=color, lw=2,\n",
        "             label=f'ROC curve of class {i} (area = {roc_auc[i]:.2f})')\n",
        "\n",
        "plt.plot([0, 1], [0, 1], 'k--', lw=2)\n",
        "plt.xlim([0.0, 1.0])\n",
        "plt.ylim([0.0, 1.05])\n",
        "plt.xlabel('False Positive Rate')\n",
        "plt.ylabel('True Positive Rate')\n",
        "plt.title('Receiver Operating Characteristic (ROC) Curve for Multiclass Classification')\n",
        "plt.legend(loc=\"lower right\")\n",
        "plt.show()"
      ],
      "metadata": {
        "colab": {
          "base_uri": "https://localhost:8080/",
          "height": 564
        },
        "id": "LQiQiBCo3Avq",
        "outputId": "83b053e6-583f-47ae-bc31-cfc2a5fc28f0"
      },
      "execution_count": null,
      "outputs": [
        {
          "output_type": "display_data",
          "data": {
            "text/plain": [
              "<Figure size 800x600 with 1 Axes>"
            ],
            "image/png": "[encoded data removed]"
          },
          "metadata": {}
        }
      ]
    },
    {
      "cell_type": "markdown",
      "source": [
        "<a id='different-topics'></a>\n",
        "## 5. How Can We Build a Model to Differentiate Between Topics?"
      ],
      "metadata": {
        "id": "IMrW1VRNBzsi"
      }
    },
    {
      "cell_type": "code",
      "source": [
        "## We have 3 topics:\n",
        "\n",
        "## Cloting / Retail\n",
        "## Soccer / Sports\n",
        "## Army / Racism\n",
        "\n",
        "class Category:\n",
        "  RETAIL = \"CLOTHING\"\n",
        "  SPORTS = \"SPORTS\"\n",
        "  ARMY = \"ARMY\"\n",
        "\n",
        "print(training_data)\n",
        "print(Category)"
      ],
      "metadata": {
        "colab": {
          "base_uri": "https://localhost:8080/"
        },
        "id": "-pTKHLdYBWjD",
        "outputId": "4303d8e8-9d0e-49cb-8f52-abfbdc39f4f8"
      },
      "execution_count": null,
      "outputs": [
        {
          "output_type": "stream",
          "name": "stdout",
          "text": [
            "['The new summer collection has vibrant colors.', 'Retail stores are introducing seasonal discounts.', 'Jeans are a popular choice among teenagers.', 'Online shopping has made retail more accessible.', 'Winter wear is on sale this month.', 'The soccer team trained hard for the upcoming match.', 'Stadiums are filled with fans during the league games.', 'Running is a great way to keep fit.', 'The tennis championship attracts global attention.', 'Physical exercise is crucial for a healthy lifestyle.', 'The army is increasing its training programs.', 'Military technology has seen rapid advancements.', 'It is essential for the army to ensure equal opportunities for all.', 'Concerns about inclusivity in the armed forces are being addressed.', 'The defense sector is focusing on sustainable practices.']\n",
            "<class '__main__.Category'>\n"
          ]
        }
      ]
    },
    {
      "cell_type": "code",
      "source": [
        "categories_y = [Category.RETAIL, Category.RETAIL, Category.SPORTS, Category.SPORTS, Category.ARMY, Category.ARMY, Category.ARMY]\n",
        "print(categories_y)"
      ],
      "metadata": {
        "colab": {
          "base_uri": "https://localhost:8080/"
        },
        "id": "Sgbx5KvOCYh7",
        "outputId": "c6a7ea3b-dadb-4455-b067-9a2ba8a84ec5"
      },
      "execution_count": null,
      "outputs": [
        {
          "output_type": "stream",
          "name": "stdout",
          "text": [
            "['CLOTHING', 'CLOTHING', 'SPORTS', 'SPORTS', 'ARMY', 'ARMY', 'ARMY']\n"
          ]
        }
      ]
    },
    {
      "cell_type": "code",
      "source": [
        "# Check if the length of the first list is the same as the second list:\n",
        "\n",
        "if len(training_data) == len(categories_y):\n",
        "    print(\"The lengths are the same.\")\n",
        "else:\n",
        "    print(\"The lengths are different.\")\n"
      ],
      "metadata": {
        "colab": {
          "base_uri": "https://localhost:8080/"
        },
        "id": "grSmWwpdCmb1",
        "outputId": "a62836a6-12e6-49a0-988e-d1d7926f91ed"
      },
      "execution_count": null,
      "outputs": [
        {
          "output_type": "stream",
          "name": "stdout",
          "text": [
            "The lengths are different.\n"
          ]
        }
      ]
    },
    {
      "cell_type": "code",
      "source": [
        "## Perfect"
      ],
      "metadata": {
        "id": "EEAHpCbbCzbv"
      },
      "execution_count": null,
      "outputs": []
    },
    {
      "cell_type": "code",
      "source": [
        "# Lets Build a Linear SVM Model for Text Anlaysis and Classification\n",
        "# Using the SCIKIT Learn Library\n",
        "\n",
        "from sklearn import svm\n",
        "clf_svm = svm.SVC(kernel='linear')\n",
        "\n",
        "train_x_vectors = vectorizer.fit_transform(training_data)"
      ],
      "metadata": {
        "id": "jd7Lq5v0DNKv"
      },
      "execution_count": null,
      "outputs": []
    },
    {
      "cell_type": "code",
      "source": [
        "# Assuming training_data and Category have been defined as previously shown\n",
        "\n",
        "# Create labels for the training data\n",
        "training_y = [\n",
        "    # Clothing / Retail\n",
        "    Category.RETAIL,\n",
        "    Category.RETAIL,\n",
        "    Category.RETAIL,\n",
        "    Category.RETAIL,\n",
        "    Category.RETAIL,\n",
        "\n",
        "    # Soccer / Sports\n",
        "    Category.SPORTS,\n",
        "    Category.SPORTS,\n",
        "    Category.SPORTS,\n",
        "    Category.SPORTS,\n",
        "    Category.SPORTS,\n",
        "\n",
        "    # Army / Concerns\n",
        "    Category.ARMY,\n",
        "    Category.ARMY,\n",
        "    Category.ARMY,\n",
        "    Category.ARMY,\n",
        "    Category.ARMY\n",
        "]\n",
        "\n",
        "# Transform the training data\n",
        "training_vectors = vectorizer.transform(training_data)\n",
        "\n",
        "# Train the classifier\n",
        "clf_svm.fit(training_vectors, training_y)\n",
        "\n",
        "# Now, you should be able to make predictions on your test data\n",
        "predictions = clf_svm.predict(testing_vectors)\n",
        "\n",
        "print(predictions)"
      ],
      "metadata": {
        "colab": {
          "base_uri": "https://localhost:8080/"
        },
        "id": "ZRT6ISaREoFq",
        "outputId": "ff16ca92-0e15-481c-b450-c6344c772a00"
      },
      "execution_count": null,
      "outputs": [
        {
          "output_type": "stream",
          "name": "stdout",
          "text": [
            "['SPORTS' 'ARMY']\n"
          ]
        }
      ]
    },
    {
      "cell_type": "code",
      "source": [
        "## Some Changes to the code for optimization:\n",
        "# Unigram approach: The method above where it classifies\n",
        "## individual words (default)\n",
        "\n",
        "# Bigram Approach: The method where the model can take a combination\n",
        "## of words and also classify them as one single utterance using:\n",
        "## vectorizer = CountVectorizer(binary = True, ngram_range(1,2))\n",
        "\n",
        "## example: 'wear this' instead of 'wear' and 'this'\n",
        "\n",
        "vectorizer_ngram = CountVectorizer(binary = True, ngram_range=(1,2))\n",
        "vectors = vectorizer_ngram.fit_transform(training_data)\n",
        "print(vectorizer_ngram.get_feature_names_out())"
      ],
      "metadata": {
        "colab": {
          "base_uri": "https://localhost:8080/"
        },
        "id": "XW8o4XCZFTVD",
        "outputId": "51988edc-f6d2-4624-f018-69073dd1f403"
      },
      "execution_count": null,
      "outputs": [
        {
          "output_type": "stream",
          "name": "stdout",
          "text": [
            "['about' 'about inclusivity' 'accessible' 'addressed' 'advancements' 'all'\n",
            " 'among' 'among teenagers' 'are' 'are being' 'are filled'\n",
            " 'are introducing' 'are popular' 'armed' 'armed forces' 'army' 'army is'\n",
            " 'army to' 'attention' 'attracts' 'attracts global' 'being'\n",
            " 'being addressed' 'championship' 'championship attracts' 'choice'\n",
            " 'choice among' 'collection' 'collection has' 'colors' 'concerns'\n",
            " 'concerns about' 'crucial' 'crucial for' 'defense' 'defense sector'\n",
            " 'discounts' 'during' 'during the' 'ensure' 'ensure equal' 'equal'\n",
            " 'equal opportunities' 'essential' 'essential for' 'exercise'\n",
            " 'exercise is' 'fans' 'fans during' 'filled' 'filled with' 'fit'\n",
            " 'focusing' 'focusing on' 'for' 'for all' 'for healthy' 'for the' 'forces'\n",
            " 'forces are' 'games' 'global' 'global attention' 'great' 'great way'\n",
            " 'hard' 'hard for' 'has' 'has made' 'has seen' 'has vibrant' 'healthy'\n",
            " 'healthy lifestyle' 'in' 'in the' 'inclusivity' 'inclusivity in'\n",
            " 'increasing' 'increasing its' 'introducing' 'introducing seasonal' 'is'\n",
            " 'is crucial' 'is essential' 'is focusing' 'is great' 'is increasing'\n",
            " 'is on' 'it' 'it is' 'its' 'its training' 'jeans' 'jeans are' 'keep'\n",
            " 'keep fit' 'league' 'league games' 'lifestyle' 'made' 'made retail'\n",
            " 'match' 'military' 'military technology' 'month' 'more' 'more accessible'\n",
            " 'new' 'new summer' 'on' 'on sale' 'on sustainable' 'online'\n",
            " 'online shopping' 'opportunities' 'opportunities for' 'physical'\n",
            " 'physical exercise' 'popular' 'popular choice' 'practices' 'programs'\n",
            " 'rapid' 'rapid advancements' 'retail' 'retail more' 'retail stores'\n",
            " 'running' 'running is' 'sale' 'sale this' 'seasonal' 'seasonal discounts'\n",
            " 'sector' 'sector is' 'seen' 'seen rapid' 'shopping' 'shopping has'\n",
            " 'soccer' 'soccer team' 'stadiums' 'stadiums are' 'stores' 'stores are'\n",
            " 'summer' 'summer collection' 'sustainable' 'sustainable practices' 'team'\n",
            " 'team trained' 'technology' 'technology has' 'teenagers' 'tennis'\n",
            " 'tennis championship' 'the' 'the armed' 'the army' 'the defense'\n",
            " 'the league' 'the new' 'the soccer' 'the tennis' 'the upcoming' 'this'\n",
            " 'this month' 'to' 'to ensure' 'to keep' 'trained' 'trained hard'\n",
            " 'training' 'training programs' 'upcoming' 'upcoming match' 'vibrant'\n",
            " 'vibrant colors' 'way' 'way to' 'wear' 'wear is' 'winter' 'winter wear'\n",
            " 'with' 'with fans']\n"
          ]
        }
      ]
    },
    {
      "cell_type": "markdown",
      "source": [
        "The N-gram technique is particularly advantageous for certain contexts. For example, while a model might interpret \"great\" as expressing positive sentiment, the presence of a preceding word like \"not\" can entirely alter that sentiment's meaning.\n",
        "\n",
        "On the other hand, this method can have its drawbacks. If we expand the N-gram grouping from pairs to a larger set, such as 10 words, it could potentially misrepresent the data, resulting in misleading conclusions."
      ],
      "metadata": {
        "id": "OHe_-TzHIMRt"
      }
    },
    {
      "cell_type": "markdown",
      "source": [
        "<a id='more-examples'></a>\n",
        "## 6. More Examples"
      ],
      "metadata": {
        "id": "X_5CGMSF5uQH"
      }
    },
    {
      "cell_type": "code",
      "execution_count": null,
      "metadata": {
        "id": "ONaDX7t20w1K"
      },
      "outputs": [],
      "source": [
        "from sklearn.feature_extraction.text import CountVectorizer"
      ]
    },
    {
      "cell_type": "code",
      "source": [
        "training_data = [\n",
        "    # Clothing / Retail\n",
        "    'The new summer collection has vibrant colors.',\n",
        "    'Retail stores are introducing seasonal discounts.',\n",
        "    'Jeans are a popular choice among teenagers.',\n",
        "    'Online shopping has made retail more accessible.',\n",
        "    'Winter wear is on sale this month.',\n",
        "\n",
        "    # Soccer / Sports\n",
        "    'The soccer team trained hard for the upcoming match.',\n",
        "    'Stadiums are filled with fans during the league games.',\n",
        "    'Running is a great way to keep fit.',\n",
        "    'The tennis championship attracts global attention.',\n",
        "    'Physical exercise is crucial for a healthy lifestyle.',\n",
        "\n",
        "    # Army / Concerns\n",
        "    'The army is increasing its training programs.',\n",
        "    'Military technology has seen rapid advancements.',\n",
        "    'It is essential for the army to ensure equal opportunities for all.',\n",
        "    'Concerns about inclusivity in the armed forces are being addressed.',\n",
        "    'The defense sector is focusing on sustainable practices.'\n",
        "]"
      ],
      "metadata": {
        "id": "KVyKKqRx2Oew"
      },
      "execution_count": null,
      "outputs": []
    },
    {
      "cell_type": "markdown",
      "source": [
        "Let's train \"y\" now for consistency:"
      ],
      "metadata": {
        "id": "kjxlUQHIKL3f"
      }
    },
    {
      "cell_type": "code",
      "source": [
        "training_y = [\n",
        "    # Clothing / Retail\n",
        "    Category.RETAIL,\n",
        "    Category.RETAIL,\n",
        "    Category.RETAIL,\n",
        "    Category.RETAIL,\n",
        "    Category.RETAIL,\n",
        "\n",
        "    # Soccer / Sports\n",
        "    Category.SPORTS,\n",
        "    Category.SPORTS,\n",
        "    Category.SPORTS,\n",
        "    Category.SPORTS,\n",
        "    Category.SPORTS,\n",
        "\n",
        "    # Army / Concerns\n",
        "    Category.ARMY,\n",
        "    Category.ARMY,\n",
        "    Category.ARMY,\n",
        "    Category.ARMY,\n",
        "    Category.ARMY\n",
        "]"
      ],
      "metadata": {
        "id": "AUtKsNiAJvJx"
      },
      "execution_count": null,
      "outputs": []
    },
    {
      "cell_type": "markdown",
      "source": [
        "Now, training_data and training_y are consistent.\n",
        "\n",
        "Let's train the classifier:\n",
        "* First, ensure that the training_data is transformed into vectors:"
      ],
      "metadata": {
        "id": "DpFqlBxoJ_lD"
      }
    },
    {
      "cell_type": "code",
      "source": [
        "training_vectors = vectorizer.transform(training_data)"
      ],
      "metadata": {
        "id": "pIe0QhlkJ6Af"
      },
      "execution_count": null,
      "outputs": []
    },
    {
      "cell_type": "markdown",
      "source": [
        "* Secondly, train the SVM classifier with the transformed data:"
      ],
      "metadata": {
        "id": "e_rxRUQBKX_D"
      }
    },
    {
      "cell_type": "code",
      "source": [
        "clf_svm.fit(training_vectors, training_y)"
      ],
      "metadata": {
        "colab": {
          "base_uri": "https://localhost:8080/",
          "height": 74
        },
        "id": "qlr_d7wJKbFh",
        "outputId": "fc40b03e-1b16-447f-f3f4-101feb9efbc2"
      },
      "execution_count": null,
      "outputs": [
        {
          "output_type": "execute_result",
          "data": {
            "text/plain": [
              "SVC(kernel='linear')"
            ],
            "text/html": [
              "<style>#sk-container-id-2 {color: black;background-color: white;}#sk-container-id-2 pre{padding: 0;}#sk-container-id-2 div.sk-toggleable {background-color: white;}#sk-container-id-2 label.sk-toggleable__label {cursor: pointer;display: block;width: 100%;margin-bottom: 0;padding: 0.3em;box-sizing: border-box;text-align: center;}#sk-container-id-2 label.sk-toggleable__label-arrow:before {content: \"▸\";float: left;margin-right: 0.25em;color: #696969;}#sk-container-id-2 label.sk-toggleable__label-arrow:hover:before {color: black;}#sk-container-id-2 div.sk-estimator:hover label.sk-toggleable__label-arrow:before {color: black;}#sk-container-id-2 div.sk-toggleable__content {max-height: 0;max-width: 0;overflow: hidden;text-align: left;background-color: #f0f8ff;}#sk-container-id-2 div.sk-toggleable__content pre {margin: 0.2em;color: black;border-radius: 0.25em;background-color: #f0f8ff;}#sk-container-id-2 input.sk-toggleable__control:checked~div.sk-toggleable__content {max-height: 200px;max-width: 100%;overflow: auto;}#sk-container-id-2 input.sk-toggleable__control:checked~label.sk-toggleable__label-arrow:before {content: \"▾\";}#sk-container-id-2 div.sk-estimator input.sk-toggleable__control:checked~label.sk-toggleable__label {background-color: #d4ebff;}#sk-container-id-2 div.sk-label input.sk-toggleable__control:checked~label.sk-toggleable__label {background-color: #d4ebff;}#sk-container-id-2 input.sk-hidden--visually {border: 0;clip: rect(1px 1px 1px 1px);clip: rect(1px, 1px, 1px, 1px);height: 1px;margin: -1px;overflow: hidden;padding: 0;position: absolute;width: 1px;}#sk-container-id-2 div.sk-estimator {font-family: monospace;background-color: #f0f8ff;border: 1px dotted black;border-radius: 0.25em;box-sizing: border-box;margin-bottom: 0.5em;}#sk-container-id-2 div.sk-estimator:hover {background-color: #d4ebff;}#sk-container-id-2 div.sk-parallel-item::after {content: \"\";width: 100%;border-bottom: 1px solid gray;flex-grow: 1;}#sk-container-id-2 div.sk-label:hover label.sk-toggleable__label {background-color: #d4ebff;}#sk-container-id-2 div.sk-serial::before {content: \"\";position: absolute;border-left: 1px solid gray;box-sizing: border-box;top: 0;bottom: 0;left: 50%;z-index: 0;}#sk-container-id-2 div.sk-serial {display: flex;flex-direction: column;align-items: center;background-color: white;padding-right: 0.2em;padding-left: 0.2em;position: relative;}#sk-container-id-2 div.sk-item {position: relative;z-index: 1;}#sk-container-id-2 div.sk-parallel {display: flex;align-items: stretch;justify-content: center;background-color: white;position: relative;}#sk-container-id-2 div.sk-item::before, #sk-container-id-2 div.sk-parallel-item::before {content: \"\";position: absolute;border-left: 1px solid gray;box-sizing: border-box;top: 0;bottom: 0;left: 50%;z-index: -1;}#sk-container-id-2 div.sk-parallel-item {display: flex;flex-direction: column;z-index: 1;position: relative;background-color: white;}#sk-container-id-2 div.sk-parallel-item:first-child::after {align-self: flex-end;width: 50%;}#sk-container-id-2 div.sk-parallel-item:last-child::after {align-self: flex-start;width: 50%;}#sk-container-id-2 div.sk-parallel-item:only-child::after {width: 0;}#sk-container-id-2 div.sk-dashed-wrapped {border: 1px dashed gray;margin: 0 0.4em 0.5em 0.4em;box-sizing: border-box;padding-bottom: 0.4em;background-color: white;}#sk-container-id-2 div.sk-label label {font-family: monospace;font-weight: bold;display: inline-block;line-height: 1.2em;}#sk-container-id-2 div.sk-label-container {text-align: center;}#sk-container-id-2 div.sk-container {/* jupyter's `normalize.less` sets `[hidden] { display: none; }` but bootstrap.min.css set `[hidden] { display: none !important; }` so we also need the `!important` here to be able to override the default hidden behavior on the sphinx rendered scikit-learn.org. See: https://github.com/scikit-learn/scikit-learn/issues/21755 */display: inline-block !important;position: relative;}#sk-container-id-2 div.sk-text-repr-fallback {display: none;}</style><div id=\"sk-container-id-2\" class=\"sk-top-container\"><div class=\"sk-text-repr-fallback\"><pre>SVC(kernel=&#x27;linear&#x27;)</pre><b>In a Jupyter environment, please rerun this cell to show the HTML representation or trust the notebook. <br />On GitHub, the HTML representation is unable to render, please try loading this page with nbviewer.org.</b></div><div class=\"sk-container\" hidden><div class=\"sk-item\"><div class=\"sk-estimator sk-toggleable\"><input class=\"sk-toggleable__control sk-hidden--visually\" id=\"sk-estimator-id-2\" type=\"checkbox\" checked><label for=\"sk-estimator-id-2\" class=\"sk-toggleable__label sk-toggleable__label-arrow\">SVC</label><div class=\"sk-toggleable__content\"><pre>SVC(kernel=&#x27;linear&#x27;)</pre></div></div></div></div></div>"
            ]
          },
          "metadata": {},
          "execution_count": 129
        }
      ]
    },
    {
      "cell_type": "markdown",
      "source": [
        "* Once trained, you can then make predictions on your testing_vectors:"
      ],
      "metadata": {
        "id": "upDJqzRpKc5G"
      }
    },
    {
      "cell_type": "code",
      "source": [
        "predictions = clf_svm.predict(testing_vectors)\n",
        "print(predictions)"
      ],
      "metadata": {
        "colab": {
          "base_uri": "https://localhost:8080/"
        },
        "id": "guMjabPvKf21",
        "outputId": "9b0ab92c-2682-450e-92ab-1cec709ceb8e"
      },
      "execution_count": null,
      "outputs": [
        {
          "output_type": "stream",
          "name": "stdout",
          "text": [
            "['SPORTS' 'ARMY']\n"
          ]
        }
      ]
    },
    {
      "cell_type": "code",
      "source": [
        "## Vecotrizer will first find all the unique words in the training data\n",
        "## building a binary classfier\n",
        "\n",
        "## The model or vectorizer will then predict whather or not the training data\n",
        "## is in the dictionary or not\n",
        "\n",
        "## The first step of the vectorizer is to create a dictionry that contains\n",
        "## the distinct words from the training data\n",
        "\n",
        "vectorizer = CountVectorizer()\n",
        "vectors = vectorizer.fit_transform(training_data)\n",
        "\n",
        "print(vectors[0], vectors[1], vectors[3], vectors[4], vectors[5])"
      ],
      "metadata": {
        "colab": {
          "base_uri": "https://localhost:8080/"
        },
        "id": "tboUex5-3_3U",
        "outputId": "18469219-0330-4392-92a8-df91921431ab"
      },
      "execution_count": null,
      "outputs": [
        {
          "output_type": "stream",
          "name": "stdout",
          "text": [
            "  (0, 78)\t1\n",
            "  (0, 53)\t1\n",
            "  (0, 72)\t1\n",
            "  (0, 14)\t1\n",
            "  (0, 35)\t1\n",
            "  (0, 84)\t1\n",
            "  (0, 15)\t1   (0, 62)\t1\n",
            "  (0, 71)\t1\n",
            "  (0, 6)\t1\n",
            "  (0, 40)\t1\n",
            "  (0, 65)\t1\n",
            "  (0, 19)\t1   (0, 35)\t1\n",
            "  (0, 62)\t1\n",
            "  (0, 55)\t1\n",
            "  (0, 68)\t1\n",
            "  (0, 48)\t1\n",
            "  (0, 52)\t1\n",
            "  (0, 1)\t1   (0, 87)\t1\n",
            "  (0, 86)\t1\n",
            "  (0, 41)\t1\n",
            "  (0, 54)\t1\n",
            "  (0, 64)\t1\n",
            "  (0, 79)\t1\n",
            "  (0, 51)\t1   (0, 78)\t2\n",
            "  (0, 69)\t1\n",
            "  (0, 74)\t1\n",
            "  (0, 81)\t1\n",
            "  (0, 34)\t1\n",
            "  (0, 29)\t1\n",
            "  (0, 83)\t1\n",
            "  (0, 49)\t1\n"
          ]
        }
      ]
    },
    {
      "cell_type": "code",
      "source": [
        "## See the words converted to numbers in the form of an array ([[]])\n",
        "\n",
        "## See the individual words pertaining to the unique dictionary\n",
        "## created by the vectorizer\n",
        "\n",
        "\n",
        "## Vectorizer also counts the number of times a word is\n",
        "## repeated so if we modify the first occurence to\n",
        "##  [[... 0 3 1...]]\n",
        "\n",
        "print(vectors.toarray())\n",
        "print('\\n')\n",
        "print(vectorizer.get_feature_names_out())"
      ],
      "metadata": {
        "colab": {
          "base_uri": "https://localhost:8080/"
        },
        "id": "_xn5OVS_4xiu",
        "outputId": "01398337-4290-41df-d978-a420fec5a967"
      },
      "execution_count": null,
      "outputs": [
        {
          "output_type": "stream",
          "name": "stdout",
          "text": [
            "[[0 0 0 ... 0 0 0]\n",
            " [0 0 0 ... 0 0 0]\n",
            " [0 0 0 ... 0 0 0]\n",
            " ...\n",
            " [0 0 0 ... 0 0 0]\n",
            " [1 0 1 ... 0 0 0]\n",
            " [0 0 0 ... 0 0 0]]\n",
            "\n",
            "\n",
            "['about' 'accessible' 'addressed' 'advancements' 'all' 'among' 'are'\n",
            " 'armed' 'army' 'attention' 'attracts' 'being' 'championship' 'choice'\n",
            " 'collection' 'colors' 'concerns' 'crucial' 'defense' 'discounts' 'during'\n",
            " 'ensure' 'equal' 'essential' 'exercise' 'fans' 'filled' 'fit' 'focusing'\n",
            " 'for' 'forces' 'games' 'global' 'great' 'hard' 'has' 'healthy' 'in'\n",
            " 'inclusivity' 'increasing' 'introducing' 'is' 'it' 'its' 'jeans' 'keep'\n",
            " 'league' 'lifestyle' 'made' 'match' 'military' 'month' 'more' 'new' 'on'\n",
            " 'online' 'opportunities' 'physical' 'popular' 'practices' 'programs'\n",
            " 'rapid' 'retail' 'running' 'sale' 'seasonal' 'sector' 'seen' 'shopping'\n",
            " 'soccer' 'stadiums' 'stores' 'summer' 'sustainable' 'team' 'technology'\n",
            " 'teenagers' 'tennis' 'the' 'this' 'to' 'trained' 'training' 'upcoming'\n",
            " 'vibrant' 'way' 'wear' 'winter' 'with']\n"
          ]
        }
      ]
    },
    {
      "cell_type": "code",
      "source": [
        "## We can also ad an arugemt of binary representation  to Count Vectorizer\n",
        "\n",
        "## vectorizer = CountVectorizer(binary = True)\n",
        "##vectors = vectorizer.fit_transform(training_data)\n",
        "\n",
        "## so if the word is repeated 3 times, it'll only count it once\n",
        "\n",
        "vectorizer = CountVectorizer(binary = True)\n",
        "vectors = vectorizer.fit_transform(training_data)\n",
        "print(vectors.toarray())\n",
        "print('\\n')\n",
        "print(vectorizer.get_feature_names_out())"
      ],
      "metadata": {
        "colab": {
          "base_uri": "https://localhost:8080/"
        },
        "id": "HMQsyu9x9B4c",
        "outputId": "a47b38c1-caa5-4859-ccf4-e3911133f6f5"
      },
      "execution_count": null,
      "outputs": [
        {
          "output_type": "stream",
          "name": "stdout",
          "text": [
            "[[0 0 0 ... 0 0 0]\n",
            " [0 0 0 ... 0 0 0]\n",
            " [0 0 0 ... 0 0 0]\n",
            " ...\n",
            " [0 0 0 ... 0 0 0]\n",
            " [1 0 1 ... 0 0 0]\n",
            " [0 0 0 ... 0 0 0]]\n",
            "\n",
            "\n",
            "['about' 'accessible' 'addressed' 'advancements' 'all' 'among' 'are'\n",
            " 'armed' 'army' 'attention' 'attracts' 'being' 'championship' 'choice'\n",
            " 'collection' 'colors' 'concerns' 'crucial' 'defense' 'discounts' 'during'\n",
            " 'ensure' 'equal' 'essential' 'exercise' 'fans' 'filled' 'fit' 'focusing'\n",
            " 'for' 'forces' 'games' 'global' 'great' 'hard' 'has' 'healthy' 'in'\n",
            " 'inclusivity' 'increasing' 'introducing' 'is' 'it' 'its' 'jeans' 'keep'\n",
            " 'league' 'lifestyle' 'made' 'match' 'military' 'month' 'more' 'new' 'on'\n",
            " 'online' 'opportunities' 'physical' 'popular' 'practices' 'programs'\n",
            " 'rapid' 'retail' 'running' 'sale' 'seasonal' 'sector' 'seen' 'shopping'\n",
            " 'soccer' 'stadiums' 'stores' 'summer' 'sustainable' 'team' 'technology'\n",
            " 'teenagers' 'tennis' 'the' 'this' 'to' 'trained' 'training' 'upcoming'\n",
            " 'vibrant' 'way' 'wear' 'winter' 'with']\n"
          ]
        }
      ]
    }
  ]
}